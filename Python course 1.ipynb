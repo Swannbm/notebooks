{
 "cells": [
  {
   "cell_type": "markdown",
   "metadata": {},
   "source": [
    "# Chapitre 3: contrôle du flux d'exécution"
   ]
  },
  {
   "cell_type": "markdown",
   "metadata": {},
   "source": [
    "## Condition 'si' ou 'if'"
   ]
  },
  {
   "cell_type": "code",
   "execution_count": null,
   "metadata": {},
   "outputs": [],
   "source": [
    "a = 150\n",
    "if a > 100 :\n",
    "    print(\"La variable 'a' dépasse la centaine.\")\n",
    "print(\"fin\")"
   ]
  },
  {
   "cell_type": "code",
   "execution_count": null,
   "metadata": {},
   "outputs": [],
   "source": [
    "a = 20\n",
    "if a > 100 :\n",
    "    print(\"La variable 'a' dépasse la centaine.\")\n",
    "print(\"fin\")"
   ]
  },
  {
   "cell_type": "code",
   "execution_count": null,
   "metadata": {},
   "outputs": [],
   "source": [
    "a = 20\n",
    "if a > 100 :\n",
    "    print(\"La variable 'a' dépasse la centaine.\")\n",
    "else:\n",
    "    print(\"La variable 'a' n'atteint pas la centaine...\")\n",
    "print(\"fin\")"
   ]
  },
  {
   "cell_type": "code",
   "execution_count": null,
   "metadata": {},
   "outputs": [],
   "source": [
    "a = 0\n",
    "if a > 0:\n",
    "    print(\"a est positif\")\n",
    "elif a < 0:\n",
    "    print(\"a est négatif\")\n",
    "else:\n",
    "    print(\"a est nul\")\n",
    "print(\"fin\")"
   ]
  },
  {
   "cell_type": "markdown",
   "metadata": {},
   "source": [
    "## opérateurs de comparaison :\n",
    "x == y\n",
    "\n",
    "x != y\n",
    "\n",
    "x >  y\n",
    "\n",
    "x <  y\n",
    "\n",
    "x >= y\n",
    "\n",
    "x <= y"
   ]
  },
  {
   "cell_type": "code",
   "execution_count": null,
   "metadata": {},
   "outputs": [],
   "source": [
    "a = 7\n",
    "pair = a % 2\n",
    "if pair == 0:\n",
    "    print(\"a est pair\")\n",
    "    print(\"parce que le reste de sa division par 2 est nul\")\n",
    "else:\n",
    "    print(\"a est impair\")"
   ]
  },
  {
   "cell_type": "markdown",
   "metadata": {},
   "source": [
    "## Bloc d'instruction\n",
    "\n",
    "if condition:\n",
    "\n",
    "    instruction...\n",
    "\n",
    "    instruction...\n",
    "\n",
    "    instruction..."
   ]
  },
  {
   "cell_type": "markdown",
   "metadata": {},
   "source": [
    "## Conditions imbriquées"
   ]
  },
  {
   "cell_type": "markdown",
   "metadata": {},
   "source": [
    "if embrenchement == \"vertébrés\":\n",
    "    if classe == \"mammifères\":\n",
    "        if ordre == \"carnivore\":\n",
    "            if famille == \"félins\":\n",
    "                print(\"c'est peut-être un chat\")\n",
    "        print(\"C'est au moins un mammifère\")\n",
    "    elif classe == \"oiseaux\":\n",
    "        print(\"c'est peut-être un canari\")\n",
    "print(\"La classification des animaux est complexe\") "
   ]
  },
  {
   "cell_type": "markdown",
   "metadata": {},
   "source": [
    "# Chapitre 4 : Instructions répétitives"
   ]
  },
  {
   "cell_type": "markdown",
   "metadata": {},
   "source": [
    "## commutation"
   ]
  },
  {
   "cell_type": "code",
   "execution_count": null,
   "metadata": {},
   "outputs": [],
   "source": [
    "a, b, c = 1, 2, 3\n",
    "print(a, b, c)\n",
    "# comment inverser a et b ?\n",
    "a, b = b, a\n",
    "print(a, b, c)"
   ]
  },
  {
   "cell_type": "code",
   "execution_count": null,
   "metadata": {},
   "outputs": [],
   "source": []
  }
 ],
 "metadata": {
  "kernelspec": {
   "display_name": "Python 3",
   "language": "python",
   "name": "python3"
  },
  "language_info": {
   "codemirror_mode": {
    "name": "ipython",
    "version": 3
   },
   "file_extension": ".py",
   "mimetype": "text/x-python",
   "name": "python",
   "nbconvert_exporter": "python",
   "pygments_lexer": "ipython3",
   "version": "3.9.0"
  }
 },
 "nbformat": 4,
 "nbformat_minor": 2
}
