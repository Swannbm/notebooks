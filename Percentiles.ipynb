{
 "cells": [
  {
   "cell_type": "code",
   "execution_count": 7,
   "metadata": {},
   "outputs": [
    {
     "data": {
      "text/plain": [
       "array([  1. ,  40.7,  80.4, 120.1, 159.8, 199.5, 239.2, 278.9, 318.6,\n",
       "       358.3, 398. ])"
      ]
     },
     "execution_count": 7,
     "metadata": {},
     "output_type": "execute_result"
    }
   ],
   "source": [
    "import numpy as np\n",
    "\n",
    "a = range(1,399)\n",
    "np.percentile(a, [0, 10,20,30,40,50,60,70,80,90, 100])"
   ]
  },
  {
   "cell_type": "code",
   "execution_count": 12,
   "metadata": {},
   "outputs": [
    {
     "data": {
      "text/plain": [
       "array([    2700,    67827,   323295,  1067285,  3017661,  5416945,\n",
       "        9296291, 18642586, 43397491])"
      ]
     },
     "execution_count": 12,
     "metadata": {},
     "output_type": "execute_result"
    }
   ],
   "source": [
    "import psycopg2 as psql\n",
    "from prettytable import from_db_cursor, MARKDOWN \n",
    "\n",
    "conn = psql.connect(database=\"sparte\",user=\"sparte_user\", password=\"1234\", host=\"localhost\")\n",
    "conn.set_session(autocommit=True)\n",
    "cur = conn.cursor()\n",
    "\n",
    "query = \"select pop2005 from carto_worldborder order by pop2005 asc;\"\n",
    "cur.execute(query)\n",
    "rows = [_[0] for _ in cur.fetchall()]\n",
    "np.percentile(rows, [10, 20, 30, 40, 50, 60, 70, 80, 90], interpolation='lower')"
   ]
  },
  {
   "cell_type": "code",
   "execution_count": null,
   "metadata": {},
   "outputs": [],
   "source": []
  }
 ],
 "metadata": {
  "kernelspec": {
   "display_name": "Python 3",
   "language": "python",
   "name": "python3"
  },
  "language_info": {
   "codemirror_mode": {
    "name": "ipython",
    "version": 3
   },
   "file_extension": ".py",
   "mimetype": "text/x-python",
   "name": "python",
   "nbconvert_exporter": "python",
   "pygments_lexer": "ipython3",
   "version": "3.9.0"
  }
 },
 "nbformat": 4,
 "nbformat_minor": 4
}
