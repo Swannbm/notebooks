{
 "cells": [
  {
   "cell_type": "markdown",
   "metadata": {},
   "source": [
    "# Chapitre 3: contrôle du flux d'exécution"
   ]
  },
  {
   "cell_type": "markdown",
   "metadata": {},
   "source": [
    "## Condition 'si' ou 'if'"
   ]
  },
  {
   "cell_type": "code",
   "execution_count": null,
   "metadata": {},
   "outputs": [],
   "source": [
    "a = 150\n",
    "if a > 100 :\n",
    "    print(\"La variable 'a' dépasse la centaine.\")\n",
    "print(\"fin\")"
   ]
  },
  {
   "cell_type": "code",
   "execution_count": null,
   "metadata": {},
   "outputs": [],
   "source": [
    "a = 20\n",
    "if a > 100 :\n",
    "    print(\"La variable 'a' dépasse la centaine.\")\n",
    "print(\"fin\")"
   ]
  },
  {
   "cell_type": "code",
   "execution_count": 2,
   "metadata": {},
   "outputs": [
    {
     "name": "stdout",
     "output_type": "stream",
     "text": [
      "a = 20\n",
      "La variable 'a' n'atteint pas la centaine...\n",
      "fin\n"
     ]
    }
   ],
   "source": [
    "a = 20\n",
    "if a > 100 :\n",
    "    print(\"La variable 'a' dépasse la centaine.\")\n",
    "else:\n",
    "    print(\"La variable 'a' n'atteint pas la centaine...\")\n",
    "print(\"fin\")"
   ]
  },
  {
   "cell_type": "code",
   "execution_count": 3,
   "metadata": {},
   "outputs": [
    {
     "name": "stdout",
     "output_type": "stream",
     "text": [
      "a est nul\n"
     ]
    }
   ],
   "source": [
    "a = 0\n",
    "if a > 0:\n",
    "    print(\"a est positif\")\n",
    "elif a < 0:\n",
    "    print(\"a est négatif\")\n",
    "else:\n",
    "    print(\"a est nul\")\n",
    "print(\"fin\")"
   ]
  },
  {
   "cell_type": "markdown",
   "metadata": {},
   "source": [
    "# opérateurs de comparaison :\n",
    "x == y\n",
    "x != y\n",
    "x >  y\n",
    "x <  y\n",
    "x >= y\n",
    "x <= y"
   ]
  },
  {
   "cell_type": "code",
   "execution_count": null,
   "metadata": {},
   "outputs": [],
   "source": [
    "a = 7\n",
    "pair = a % 2\n",
    "if pair == 0:\n",
    "    print(\"a est pair\")\n",
    "else:\n",
    "    print(\"a est impair\")"
   ]
  },
  {
   "cell_type": "markdown",
   "metadata": {},
   "source": [
    "Le symbole de comparaison est deux signes \"égale\", un seul est l'opérateur d'affectation"
   ]
  },
  {
   "cell_type": "markdown",
   "metadata": {},
   "source": [
    "# Bloc d'instruction\n",
    "\n",
    "if condition:\n",
    "    instruction...\n",
    "    instruction...\n",
    "    instruction..."
   ]
  },
  {
   "cell_type": "markdown",
   "metadata": {},
   "source": [
    "# Conditions imbriquées"
   ]
  },
  {
   "cell_type": "code",
   "execution_count": null,
   "metadata": {},
   "outputs": [],
   "source": [
    "if embrenchement == \"vertébrés\":\n",
    "    if classe == \"mammifères\":\n",
    "        if ordre == \"carnivore\":\n",
    "            if famille == \"félins\":\n",
    "                print(\"c'est peut-être un chat\")\n",
    "        print(\"C'est au moins un mammifère\")\n",
    "    elif classe == \"oiseaux\":\n",
    "        print(\"c'est peut-être un canari\")8\n",
    "print(\"La classification des animaux est complexe\") "
   ]
  },
  {
   "cell_type": "markdown",
   "metadata": {},
   "source": []
  }
 ],
 "metadata": {
  "kernelspec": {
   "display_name": "Python 3",
   "language": "python",
   "name": "python3"
  },
  "language_info": {
   "codemirror_mode": {
    "name": "ipython",
    "version": 3
   },
   "file_extension": ".py",
   "mimetype": "text/x-python",
   "name": "python",
   "nbconvert_exporter": "python",
   "pygments_lexer": "ipython3",
   "version": "3.6.6"
  }
 },
 "nbformat": 4,
 "nbformat_minor": 2
}
