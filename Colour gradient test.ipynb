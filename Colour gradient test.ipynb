{
 "cells": [
  {
   "cell_type": "code",
   "execution_count": 1,
   "metadata": {},
   "outputs": [
    {
     "data": {
      "image/png": "[encoded data removed]",
      "text/plain": [
       "<PIL.Image.Image image mode=RGB size=400x40 at 0x7FADEDA40430>"
      ]
     },
     "metadata": {},
     "output_type": "display_data"
    }
   ],
   "source": [
    "from colour import Color\n",
    "from PIL import Image, ImageDraw\n",
    "\n",
    "tests = [\n",
    "    Color(\"yellow\"),\n",
    "    Color(\"orange\"),\n",
    "    Color(\"red\"),\n",
    "    Color(\"blue\"),\n",
    "    Color(\"black\"),\n",
    "    Color(\"gray\"),\n",
    "    Color(\"cyan\"),\n",
    "    Color(\"green\"),\n",
    "    Color(\"lime\"),\n",
    "]\n",
    "\n",
    "def to_rgb(c: Color) -> tuple:\n",
    "    return tuple([int(_ * 255) for _ in c.rgb])\n",
    "    \n",
    "    \n",
    "def scale(colors: list) -> None:\n",
    "    im = Image.new('RGB', (400, 40), to_rgb(Color(\"white\")))\n",
    "    draw = ImageDraw.Draw(im)\n",
    "    for i, c in enumerate(colors):\n",
    "        draw.rectangle((i * 10, 0, 10 + i * 10, 40), fill=to_rgb(c))\n",
    "    im.show()\n",
    "\n",
    "def copy(c: Color) -> Color:\n",
    "    return Color(c.web)\n",
    "\n",
    "scale(tests)"
   ]
  },
  {
   "cell_type": "code",
   "execution_count": 19,
   "metadata": {},
   "outputs": [
    {
     "data": {
      "image/png": "[encoded data removed]",
      "text/plain": [
       "<PIL.Image.Image image mode=RGB size=400x40 at 0x7FADE24AF2B0>"
      ]
     },
     "metadata": {},
     "output_type": "display_data"
    },
    {
     "name": "stdout",
     "output_type": "stream",
     "text": [
      "[<Color orange>, <Color #ffaf1d>, <Color #ffba39>, <Color #ffc456>, <Color #ffce72>, <Color #ffd88f>, <Color #ffe2ac>, <Color #ffecc8>, <Color #fff6e5>]\n"
     ]
    }
   ],
   "source": [
    "c1 = Color(\"orange\")\n",
    "c2 = copy(c1)\n",
    "c2.set_luminance(0.95)\n",
    "scale(list(c1.range_to(c2, 9)))\n",
    "print(list(c1.range_to(c2, 9)))"
   ]
  },
  {
   "cell_type": "code",
   "execution_count": 3,
   "metadata": {},
   "outputs": [
    {
     "data": {
      "image/png": "[encoded data removed]",
      "text/plain": [
       "<PIL.Image.Image image mode=RGB size=400x40 at 0x7FADEEFCA9D0>"
      ]
     },
     "metadata": {},
     "output_type": "display_data"
    },
    {
     "data": {
      "image/png": "[encoded data removed]",
      "text/plain": [
       "<PIL.Image.Image image mode=RGB size=400x40 at 0x7FADEEFCAE20>"
      ]
     },
     "metadata": {},
     "output_type": "display_data"
    },
    {
     "data": {
      "image/png": "[encoded data removed]",
      "text/plain": [
       "<PIL.Image.Image image mode=RGB size=400x40 at 0x7FADEEFCAE20>"
      ]
     },
     "metadata": {},
     "output_type": "display_data"
    },
    {
     "data": {
      "image/png": "[encoded data removed]",
      "text/plain": [
       "<PIL.Image.Image image mode=RGB size=400x40 at 0x7FADEEFCAE20>"
      ]
     },
     "metadata": {},
     "output_type": "display_data"
    },
    {
     "data": {
      "image/png": "[encoded data removed]",
      "text/plain": [
       "<PIL.Image.Image image mode=RGB size=400x40 at 0x7FADEEFCAE20>"
      ]
     },
     "metadata": {},
     "output_type": "display_data"
    },
    {
     "data": {
      "image/png": "[encoded data removed]",
      "text/plain": [
       "<PIL.Image.Image image mode=RGB size=400x40 at 0x7FADEEFCAE20>"
      ]
     },
     "metadata": {},
     "output_type": "display_data"
    },
    {
     "data": {
      "image/png": "[encoded data removed]",
      "text/plain": [
       "<PIL.Image.Image image mode=RGB size=400x40 at 0x7FADEEFCAE20>"
      ]
     },
     "metadata": {},
     "output_type": "display_data"
    },
    {
     "data": {
      "image/png": "[encoded data removed]",
      "text/plain": [
       "<PIL.Image.Image image mode=RGB size=400x40 at 0x7FADEEFCAE20>"
      ]
     },
     "metadata": {},
     "output_type": "display_data"
    },
    {
     "data": {
      "image/png": "[encoded data removed]",
      "text/plain": [
       "<PIL.Image.Image image mode=RGB size=400x40 at 0x7FADEEFCAE20>"
      ]
     },
     "metadata": {},
     "output_type": "display_data"
    }
   ],
   "source": [
    "def test_luminance(c1: Color) -> None:\n",
    "    colors = []\n",
    "    iteration = 10\n",
    "    pas = (0.95 - c1.get_luminance()) / iteration\n",
    "    for i in range(iteration):\n",
    "        lum = c1.get_luminance() + pas\n",
    "        c1.set_luminance(lum)\n",
    "        colors.append(copy(c1))\n",
    "    scale(colors)\n",
    "\n",
    "for c in tests:\n",
    "    test_luminance(copy(c))"
   ]
  },
  {
   "cell_type": "code",
   "execution_count": 4,
   "metadata": {},
   "outputs": [
    {
     "data": {
      "image/png": "[encoded data removed]",
      "text/plain": [
       "<PIL.Image.Image image mode=RGB size=400x40 at 0x7FADEEFCA1C0>"
      ]
     },
     "metadata": {},
     "output_type": "display_data"
    },
    {
     "data": {
      "image/png": "[encoded data removed]",
      "text/plain": [
       "<PIL.Image.Image image mode=RGB size=400x40 at 0x7FADEEFCA4F0>"
      ]
     },
     "metadata": {},
     "output_type": "display_data"
    }
   ],
   "source": [
    "c1 = Color(\"orange\")\n",
    "test_luminance(c1)\n",
    "\n",
    "c1 = Color(\"orange\")\n",
    "c2 = copy(c1)\n",
    "c2.set_luminance(0.95)\n",
    "scale(list(c1.range_to(c2, 10)))"
   ]
  },
  {
   "cell_type": "code",
   "execution_count": 5,
   "metadata": {},
   "outputs": [
    {
     "data": {
      "image/png": "[encoded data removed]",
      "text/plain": [
       "<PIL.Image.Image image mode=RGB size=400x40 at 0x7FADED9D2910>"
      ]
     },
     "metadata": {},
     "output_type": "display_data"
    },
    {
     "data": {
      "image/png": "[encoded data removed]",
      "text/plain": [
       "<PIL.Image.Image image mode=RGB size=400x40 at 0x7FADED9D2910>"
      ]
     },
     "metadata": {},
     "output_type": "display_data"
    },
    {
     "data": {
      "image/png": "[encoded data removed]",
      "text/plain": [
       "<PIL.Image.Image image mode=RGB size=400x40 at 0x7FADFC0376D0>"
      ]
     },
     "metadata": {},
     "output_type": "display_data"
    },
    {
     "data": {
      "image/png": "[encoded data removed]",
      "text/plain": [
       "<PIL.Image.Image image mode=RGB size=400x40 at 0x7FADFC0376D0>"
      ]
     },
     "metadata": {},
     "output_type": "display_data"
    },
    {
     "data": {
      "image/png": "[encoded data removed]",
      "text/plain": [
       "<PIL.Image.Image image mode=RGB size=400x40 at 0x7FADFC0376D0>"
      ]
     },
     "metadata": {},
     "output_type": "display_data"
    },
    {
     "data": {
      "image/png": "[encoded data removed]",
      "text/plain": [
       "<PIL.Image.Image image mode=RGB size=400x40 at 0x7FADFC0376D0>"
      ]
     },
     "metadata": {},
     "output_type": "display_data"
    },
    {
     "data": {
      "image/png": "[encoded data removed]",
      "text/plain": [
       "<PIL.Image.Image image mode=RGB size=400x40 at 0x7FADFC0376D0>"
      ]
     },
     "metadata": {},
     "output_type": "display_data"
    },
    {
     "data": {
      "image/png": "[encoded data removed]",
      "text/plain": [
       "<PIL.Image.Image image mode=RGB size=400x40 at 0x7FADFC0376D0>"
      ]
     },
     "metadata": {},
     "output_type": "display_data"
    },
    {
     "data": {
      "image/png": "[encoded data removed]",
      "text/plain": [
       "<PIL.Image.Image image mode=RGB size=400x40 at 0x7FADFC0376D0>"
      ]
     },
     "metadata": {},
     "output_type": "display_data"
    }
   ],
   "source": [
    "\"\"\"\n",
    "On veut faire décroitre la saturation jusqu'à 0\n",
    "\"\"\"\n",
    "def test_saturation(c1: Color) -> None:\n",
    "    colors = []\n",
    "    iteration = 10\n",
    "    pas = c1.get_saturation() / iteration\n",
    "    colors.append(copy(c1))\n",
    "    for i in range(iteration):\n",
    "        sat = c1.get_saturation() - pas\n",
    "        c1.set_saturation(sat)\n",
    "        colors.append(copy(c1))\n",
    "    scale(colors)\n",
    "\n",
    "for c in tests:\n",
    "    test_saturation(copy(c))"
   ]
  },
  {
   "cell_type": "code",
   "execution_count": 6,
   "metadata": {},
   "outputs": [
    {
     "data": {
      "image/png": "[encoded data removed]",
      "text/plain": [
       "<PIL.Image.Image image mode=RGB size=400x40 at 0x7FADECD14AF0>"
      ]
     },
     "metadata": {},
     "output_type": "display_data"
    },
    {
     "data": {
      "image/png": "[encoded data removed]",
      "text/plain": [
       "<PIL.Image.Image image mode=RGB size=400x40 at 0x7FADECD14AF0>"
      ]
     },
     "metadata": {},
     "output_type": "display_data"
    },
    {
     "data": {
      "image/png": "[encoded data removed]",
      "text/plain": [
       "<PIL.Image.Image image mode=RGB size=400x40 at 0x7FADECD14AF0>"
      ]
     },
     "metadata": {},
     "output_type": "display_data"
    },
    {
     "data": {
      "image/png": "[encoded data removed]",
      "text/plain": [
       "<PIL.Image.Image image mode=RGB size=400x40 at 0x7FADECD14AF0>"
      ]
     },
     "metadata": {},
     "output_type": "display_data"
    },
    {
     "data": {
      "image/png": "[encoded data removed]",
      "text/plain": [
       "<PIL.Image.Image image mode=RGB size=400x40 at 0x7FADECD14AF0>"
      ]
     },
     "metadata": {},
     "output_type": "display_data"
    },
    {
     "data": {
      "image/png": "[encoded data removed]",
      "text/plain": [
       "<PIL.Image.Image image mode=RGB size=400x40 at 0x7FADECD14AF0>"
      ]
     },
     "metadata": {},
     "output_type": "display_data"
    },
    {
     "data": {
      "image/png": "[encoded data removed]",
      "text/plain": [
       "<PIL.Image.Image image mode=RGB size=400x40 at 0x7FADECD14AF0>"
      ]
     },
     "metadata": {},
     "output_type": "display_data"
    },
    {
     "data": {
      "image/png": "[encoded data removed]",
      "text/plain": [
       "<PIL.Image.Image image mode=RGB size=400x40 at 0x7FADECD14AF0>"
      ]
     },
     "metadata": {},
     "output_type": "display_data"
    },
    {
     "data": {
      "image/png": "[encoded data removed]",
      "text/plain": [
       "<PIL.Image.Image image mode=RGB size=400x40 at 0x7FADECD14AF0>"
      ]
     },
     "metadata": {},
     "output_type": "display_data"
    }
   ],
   "source": [
    "\"\"\"\n",
    "On veut faire décroitre la saturation et augmenter la luminance\n",
    "\"\"\"\n",
    "def test_saturation_luminance(c1: Color) -> None:\n",
    "    colors = []\n",
    "    iteration = 10\n",
    "    pas_sat = c1.get_saturation() / iteration\n",
    "    pas_lum = (0.95 - c1.get_luminance()) / iteration\n",
    "    colors.append(copy(c1))\n",
    "    for i in range(iteration):\n",
    "        sat = c1.get_saturation() - pas_sat\n",
    "        lum = c1.get_luminance() + pas_lum\n",
    "        c1.set_saturation(sat)\n",
    "        c1.set_luminance(lum)\n",
    "        colors.append(copy(c1))\n",
    "    scale(colors)\n",
    "\n",
    "for c in tests:\n",
    "    test_saturation_luminance(copy(c))"
   ]
  },
  {
   "cell_type": "code",
   "execution_count": 7,
   "metadata": {},
   "outputs": [
    {
     "data": {
      "image/png": "[encoded data removed]",
      "text/plain": [
       "<PIL.Image.Image image mode=RGB size=400x40 at 0x7FADECD1AAF0>"
      ]
     },
     "metadata": {},
     "output_type": "display_data"
    },
    {
     "data": {
      "image/png": "[encoded data removed]",
      "text/plain": [
       "<PIL.Image.Image image mode=RGB size=400x40 at 0x7FADECD1AAF0>"
      ]
     },
     "metadata": {},
     "output_type": "display_data"
    },
    {
     "data": {
      "image/png": "[encoded data removed]",
      "text/plain": [
       "<PIL.Image.Image image mode=RGB size=400x40 at 0x7FADECD1AAF0>"
      ]
     },
     "metadata": {},
     "output_type": "display_data"
    },
    {
     "data": {
      "image/png": "[encoded data removed]",
      "text/plain": [
       "<PIL.Image.Image image mode=RGB size=400x40 at 0x7FADECD1AAF0>"
      ]
     },
     "metadata": {},
     "output_type": "display_data"
    },
    {
     "data": {
      "image/png": "[encoded data removed]",
      "text/plain": [
       "<PIL.Image.Image image mode=RGB size=400x40 at 0x7FADECD1AAF0>"
      ]
     },
     "metadata": {},
     "output_type": "display_data"
    },
    {
     "data": {
      "image/png": "[encoded data removed]",
      "text/plain": [
       "<PIL.Image.Image image mode=RGB size=400x40 at 0x7FADECD1AAF0>"
      ]
     },
     "metadata": {},
     "output_type": "display_data"
    },
    {
     "data": {
      "image/png": "[encoded data removed]",
      "text/plain": [
       "<PIL.Image.Image image mode=RGB size=400x40 at 0x7FADECD1AAF0>"
      ]
     },
     "metadata": {},
     "output_type": "display_data"
    },
    {
     "data": {
      "image/png": "[encoded data removed]",
      "text/plain": [
       "<PIL.Image.Image image mode=RGB size=400x40 at 0x7FADECD1AAF0>"
      ]
     },
     "metadata": {},
     "output_type": "display_data"
    },
    {
     "data": {
      "image/png": "[encoded data removed]",
      "text/plain": [
       "<PIL.Image.Image image mode=RGB size=400x40 at 0x7FADECD1AAF0>"
      ]
     },
     "metadata": {},
     "output_type": "display_data"
    }
   ],
   "source": [
    "\"\"\"\n",
    "On veut faire décroitre la saturation et augmenter la luminance\n",
    "Mais la saturation doit décroitre uniquement lors des premières itérations\n",
    "\"\"\"\n",
    "def test_saturation_luminance(c1: Color) -> None:\n",
    "    colors = []\n",
    "    iteration = 10\n",
    "    pas_sat = c1.get_saturation() / iteration\n",
    "    pas_lum = (0.95 - c1.get_luminance()) / iteration\n",
    "    colors.append(copy(c1))\n",
    "    for i in range(iteration):\n",
    "        if i < 10:\n",
    "            sat = c1.get_saturation() - pas_sat\n",
    "            c1.set_saturation(sat)\n",
    "        lum = c1.get_luminance() + pas_lum\n",
    "        c1.set_luminance(lum)\n",
    "        colors.append(copy(c1))\n",
    "    scale(colors)\n",
    "\n",
    "for c in tests:\n",
    "    test_saturation_luminance(copy(c))"
   ]
  },
  {
   "cell_type": "code",
   "execution_count": 20,
   "metadata": {},
   "outputs": [
    {
     "name": "stdout",
     "output_type": "stream",
     "text": [
      "[('010%', 0, 16295102), ('020%', 17795149, 36899747), ('030%', 38195558, 63002911), ('040%', 69420607, 104266392), ('050%', 127896740, 158080591), ('060%', 186830759, 226063044), ('070%', 299846449, 299846449), ('080%', 1134403141, 1134403141), ('100%', 1312978855, 1312978855)]\n",
      "| percentile |        min |        max |  color  |\n",
      "|------------|------------|------------|---------|\n",
      "|       010% |          0 |   16295102 | #ffa500 |\n",
      "|       020% |   17795149 |   36899747 | #ffaf1d |\n",
      "|       030% |   38195558 |   63002911 | #ffba39 |\n",
      "|       040% |   69420607 |  104266392 | #ffc456 |\n",
      "|       050% |  127896740 |  158080591 | #ffce72 |\n",
      "|       060% |  186830759 |  226063044 | #ffd88f |\n",
      "|       070% |  299846449 |  299846449 | #ffe2ac |\n",
      "|       080% | 1134403141 | 1134403141 | #ffecc8 |\n",
      "|       100% | 1312978855 | 1312978855 | #fff6e5 |\n"
     ]
    }
   ],
   "source": [
    "import psycopg2 as psql\n",
    "from prettytable import from_db_cursor, MARKDOWN \n",
    "\n",
    "conn = psql.connect(database=\"sparte\",user=\"sparte_user\", password=\"1234\", host=\"localhost\")\n",
    "conn.set_session(autocommit=True)\n",
    "cur = conn.cursor()\n",
    "\n",
    "query = \"\"\"\n",
    "select percentile, min(pop2005), max(pop2005)\n",
    "from \n",
    "(\n",
    "    select pop2005,\n",
    "           case \n",
    "                when sum(pop2005) over (order by pop2005) > 0.9 * sum(pop2005) over () then '100%'\n",
    "                when sum(pop2005) over (order by pop2005) > 0.8 * sum(pop2005) over () then '090%'\n",
    "                when sum(pop2005) over (order by pop2005) > 0.7 * sum(pop2005) over () then '080%'\n",
    "                when sum(pop2005) over (order by pop2005) > 0.6 * sum(pop2005) over () then '070%'\n",
    "                when sum(pop2005) over (order by pop2005) > 0.5 * sum(pop2005) over () then '060%'\n",
    "                when sum(pop2005) over (order by pop2005) > 0.4 * sum(pop2005) over () then '050%'\n",
    "                when sum(pop2005) over (order by pop2005) > 0.3 * sum(pop2005) over () then '040%'\n",
    "                when sum(pop2005) over (order by pop2005) > 0.2 * sum(pop2005) over () then '030%'\n",
    "                when sum(pop2005) over (order by pop2005) > 0.1 * sum(pop2005) over () then '020%'\n",
    "                else '010%'\n",
    "            end as percentile\n",
    "    from carto_worldborder\n",
    ") as t\n",
    "group by percentile\n",
    "order by percentile asc;\n",
    "\"\"\"\n",
    "\n",
    "cur.execute(query)\n",
    "mytable = from_db_cursor(cur)\n",
    "mytable.align = \"r\"\n",
    "mytable.set_style(MARKDOWN)\n",
    "\n",
    "c1 = Color(\"orange\")\n",
    "c2 = copy(c1)\n",
    "c2.set_luminance(0.95)\n",
    "\n",
    "mytable.add_column(\"color\", [c.hex_l for c in c1.range_to(c2, 9)])\n",
    "\n",
    "\n",
    "print(mytable)"
   ]
  },
  {
   "cell_type": "code",
   "execution_count": 17,
   "metadata": {},
   "outputs": [
    {
     "name": "stdout",
     "output_type": "stream",
     "text": [
      "VioletRed\n"
     ]
    },
    {
     "data": {
      "image/png": "[encoded data removed]",
      "text/plain": [
       "<PIL.Image.Image image mode=RGB size=400x40 at 0x7FADE24AF7F0>"
      ]
     },
     "metadata": {},
     "output_type": "display_data"
    }
   ],
   "source": [
    "from random import choice\n",
    "from colour import RGB_TO_COLOR_NAMES\n",
    "\n",
    "color_name = choice([_ for t in RGB_TO_COLOR_NAMES.items() for _ in t[1]])\n",
    "print(color_name)\n",
    "\n",
    "c1 = Color(color_name)\n",
    "c2 = copy(c1)\n",
    "c2.set_luminance(0.95)\n",
    "scale(list(c1.range_to(c2, 10)))"
   ]
  },
  {
   "cell_type": "code",
   "execution_count": null,
   "metadata": {},
   "outputs": [],
   "source": []
  },
  {
   "cell_type": "code",
   "execution_count": null,
   "metadata": {},
   "outputs": [],
   "source": []
  }
 ],
 "metadata": {
  "kernelspec": {
   "display_name": "Python 3",
   "language": "python",
   "name": "python3"
  },
  "language_info": {
   "codemirror_mode": {
    "name": "ipython",
    "version": 3
   },
   "file_extension": ".py",
   "mimetype": "text/x-python",
   "name": "python",
   "nbconvert_exporter": "python",
   "pygments_lexer": "ipython3",
   "version": "3.9.0"
  }
 },
 "nbformat": 4,
 "nbformat_minor": 4
}
