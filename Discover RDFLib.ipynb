{
 "cells": [
  {
   "cell_type": "markdown",
   "metadata": {},
   "source": [
    "# Let's discover Linked Open Data"
   ]
  },
  {
   "cell_type": "code",
   "execution_count": 1,
   "metadata": {},
   "outputs": [],
   "source": [
    "# pretty display of byte serialization\n",
    "def pprint(msg):\n",
    "    msg = msg.decode('utf-8')\n",
    "    for l in msg.split('\\n'):\n",
    "        if l.strip():\n",
    "            print(l)"
   ]
  },
  {
   "cell_type": "markdown",
   "metadata": {},
   "source": [
    "## First Graph with Donna\n",
    "In this chapter you will learn about building simple graph :\n",
    "\n",
    "- Talk a bit about identifier and URL\n",
    "- Give a few though about data representation (triple : subject, predicate, object)\n",
    "- Display graph\n"
   ]
  },
  {
   "cell_type": "code",
   "execution_count": 2,
   "metadata": {},
   "outputs": [
    {
     "data": {
      "text/plain": [
       "0"
      ]
     },
     "execution_count": 2,
     "metadata": {},
     "output_type": "execute_result"
    }
   ],
   "source": [
    "# create your first graph\n",
    "from rdflib import Graph, URIRef\n",
    "\n",
    "g = Graph(identifier=URIRef('http://example.org/bob_donna_linda'))\n",
    "len(g)"
   ]
  },
  {
   "cell_type": "code",
   "execution_count": 3,
   "metadata": {},
   "outputs": [
    {
     "data": {
      "text/plain": [
       "rdflib.term.URIRef('http://example.org/bob_donna_linda/donna')"
      ]
     },
     "execution_count": 3,
     "metadata": {},
     "output_type": "execute_result"
    }
   ],
   "source": [
    "# Introducing Donna\n",
    "URIRef('http://example.org/bob_donna_linda/donna')"
   ]
  },
  {
   "cell_type": "markdown",
   "metadata": {},
   "source": [
    "http://example.org/people/donna is an *URI*. It uses classical web URL and it's a unique identifier for Donna"
   ]
  },
  {
   "cell_type": "code",
   "execution_count": 4,
   "metadata": {},
   "outputs": [
    {
     "data": {
      "text/plain": [
       "1"
      ]
     },
     "execution_count": 4,
     "metadata": {},
     "output_type": "execute_result"
    }
   ],
   "source": [
    "# Donna is a person\n",
    "g.add( (URIRef('http://example.org/bob_donna_linda/donna'), \n",
    "        URIRef('http://www.w3.org/1999/02/22-rdf-syntax-ns#type'), \n",
    "        URIRef('http://xmlns.com/foaf/0.1/Person')) )\n",
    "len(g)"
   ]
  },
  {
   "cell_type": "code",
   "execution_count": 5,
   "metadata": {},
   "outputs": [
    {
     "name": "stdout",
     "output_type": "stream",
     "text": [
      "@prefix rdf: <http://www.w3.org/1999/02/22-rdf-syntax-ns#> .\n",
      "@prefix rdfs: <http://www.w3.org/2000/01/rdf-schema#> .\n",
      "@prefix xml: <http://www.w3.org/XML/1998/namespace> .\n",
      "@prefix xsd: <http://www.w3.org/2001/XMLSchema#> .\n",
      "<http://example.org/bob_donna_linda/donna> a <http://xmlns.com/foaf/0.1/Person> .\n"
     ]
    }
   ],
   "source": [
    "# let's display our Graph content\n",
    "content = g.serialize(format='turtle')\n",
    "pprint(content)"
   ]
  },
  {
   "cell_type": "markdown",
   "metadata": {},
   "source": [
    "## Simplify writing and reading\n",
    "\n",
    "One a the few very important will for Python is readibility, because you spend more time reading code than writing some. So let's see how to simplify writing and reading with a few tricks.\n",
    "\n",
    "- Use our own Namespace\n",
    "- Use most current Namespaces\n",
    "- Display graph in JSON-LD format"
   ]
  },
  {
   "cell_type": "code",
   "execution_count": 6,
   "metadata": {},
   "outputs": [
    {
     "data": {
      "text/plain": [
       "rdflib.term.URIRef('http://example.org/bob_donna_linda/donna')"
      ]
     },
     "execution_count": 6,
     "metadata": {},
     "output_type": "execute_result"
    }
   ],
   "source": [
    "# but it's quite hard to write and hard to read. Let's find out an easier way to do the same\n",
    "# we will use Namespace\n",
    "from rdflib import Namespace\n",
    "\n",
    "# Here is Donna (again)\n",
    "n = Namespace(\"http://example.org/bob_donna_linda/\")\n",
    "n.donna"
   ]
  },
  {
   "cell_type": "code",
   "execution_count": 7,
   "metadata": {},
   "outputs": [
    {
     "data": {
      "text/plain": [
       "rdflib.term.URIRef('http://www.w3.org/1999/02/22-rdf-syntax-ns#type')"
      ]
     },
     "execution_count": 7,
     "metadata": {},
     "output_type": "execute_result"
    }
   ],
   "source": [
    "# And there is pre built namespaces for most current RDF specs\n",
    "from rdflib.namespace import DC, FOAF, RDF, RDFS\n",
    "RDF.type"
   ]
  },
  {
   "cell_type": "code",
   "execution_count": 8,
   "metadata": {},
   "outputs": [
    {
     "data": {
      "text/plain": [
       "3"
      ]
     },
     "execution_count": 8,
     "metadata": {},
     "output_type": "execute_result"
    }
   ],
   "source": [
    "# Here is bob, it's also a person\n",
    "g.add( (n.bob, RDF.type, FOAF.Person) )\n",
    "# bob knows Donna\n",
    "g.add( (n.bob, FOAF.knows, n.donna) )\n",
    "len(g)"
   ]
  },
  {
   "cell_type": "code",
   "execution_count": 9,
   "metadata": {},
   "outputs": [
    {
     "name": "stdout",
     "output_type": "stream",
     "text": [
      "{\n",
      "  \"@context\": {\n",
      "    \"\": \"http://example.org/bob_donna_linda/\",\n",
      "    \"foaf\": \"http://xmlns.com/foaf/0.1/\",\n",
      "    \"rdf\": \"http://www.w3.org/1999/02/22-rdf-syntax-ns#\",\n",
      "    \"rdfs\": \"http://www.w3.org/2000/01/rdf-schema#\",\n",
      "    \"xml\": \"http://www.w3.org/XML/1998/namespace\",\n",
      "    \"xsd\": \"http://www.w3.org/2001/XMLSchema#\"\n",
      "  },\n",
      "  \"@graph\": [\n",
      "    {\n",
      "      \"@id\": \"http://example.org/bob_donna_linda/bob\",\n",
      "      \"@type\": \"http://xmlns.com/foaf/0.1/Person\",\n",
      "      \"http://xmlns.com/foaf/0.1/knows\": {\n",
      "        \"@id\": \"http://example.org/bob_donna_linda/donna\"\n",
      "      }\n",
      "    },\n",
      "    {\n",
      "      \"@id\": \"http://example.org/bob_donna_linda/donna\",\n",
      "      \"@type\": \"http://xmlns.com/foaf/0.1/Person\"\n",
      "    }\n",
      "  ],\n",
      "  \"@id\": \"http://example.org/bob_donna_linda\"\n",
      "}\n"
     ]
    }
   ],
   "source": [
    "# let's add contexte information to make more readable display\n",
    "g.bind(\"\", n)\n",
    "g.bind(\"foaf\", FOAF)\n",
    "\n",
    "# Display our graph respecting JSON-LD format\n",
    "from rdflib import plugin\n",
    "from rdflib.serializer import Serializer\n",
    "\n",
    "context = dict(g.namespaces())\n",
    "pprint(g.serialize(format='json-ld', context=context))"
   ]
  },
  {
   "cell_type": "markdown",
   "metadata": {},
   "source": [
    "## Complete our graph\n",
    "\n",
    "Graph contains lot of links between URI but it can also contains Literal, raw data like names, ages and so on.\n",
    "\n",
    "- String literal\n",
    "- Integer Literal\n",
    "- Language"
   ]
  },
  {
   "cell_type": "code",
   "execution_count": 10,
   "metadata": {},
   "outputs": [
    {
     "data": {
      "text/plain": [
       "6"
      ]
     },
     "execution_count": 10,
     "metadata": {},
     "output_type": "execute_result"
    }
   ],
   "source": [
    "# complete Donna profile with her identity\n",
    "from rdflib import Literal\n",
    "\n",
    "g.add( (n.donna, FOAF.name,      Literal(\"Donna Fales\")) )\n",
    "g.add( (n.donna, FOAF.firstName, Literal(\"Donna\")) )\n",
    "g.add( (n.donna, FOAF.lastName,  Literal(\"Fales\")) )\n",
    "\n",
    "len(g)"
   ]
  },
  {
   "cell_type": "code",
   "execution_count": 11,
   "metadata": {},
   "outputs": [
    {
     "data": {
      "text/plain": [
       "7"
      ]
     },
     "execution_count": 11,
     "metadata": {},
     "output_type": "execute_result"
    }
   ],
   "source": [
    "# complete Bob with his age\n",
    "from rdflib import XSD\n",
    "g.add( (n.bob,   FOAF.age,       Literal('42', datatype=XSD.integer)) )\n",
    "len(g)"
   ]
  },
  {
   "cell_type": "code",
   "execution_count": 12,
   "metadata": {},
   "outputs": [
    {
     "data": {
      "text/plain": [
       "9"
      ]
     },
     "execution_count": 12,
     "metadata": {},
     "output_type": "execute_result"
    }
   ],
   "source": [
    "# complete with Bob's label which vary according to language\n",
    "g.add( (n.bob,   RDFS.label,     Literal('Bob',    lang='en') ) )\n",
    "g.add( (n.bob,   RDFS.label,     Literal('Robert', lang='fr') ) )\n",
    "len(g)"
   ]
  },
  {
   "cell_type": "code",
   "execution_count": 13,
   "metadata": {},
   "outputs": [
    {
     "name": "stdout",
     "output_type": "stream",
     "text": [
      "@prefix : <http://example.org/bob_donna_linda/> .\n",
      "@prefix foaf: <http://xmlns.com/foaf/0.1/> .\n",
      "@prefix rdf: <http://www.w3.org/1999/02/22-rdf-syntax-ns#> .\n",
      "@prefix rdfs: <http://www.w3.org/2000/01/rdf-schema#> .\n",
      "@prefix xml: <http://www.w3.org/XML/1998/namespace> .\n",
      "@prefix xsd: <http://www.w3.org/2001/XMLSchema#> .\n",
      ":bob a foaf:Person ;\n",
      "    rdfs:label \"Bob\"@en,\n",
      "        \"Robert\"@fr ;\n",
      "    foaf:age 42 ;\n",
      "    foaf:knows :donna .\n",
      ":donna a foaf:Person ;\n",
      "    foaf:firstName \"Donna\" ;\n",
      "    foaf:lastName \"Fales\" ;\n",
      "    foaf:name \"Donna Fales\" .\n"
     ]
    }
   ],
   "source": [
    "pprint(g.serialize(format='turtle'))"
   ]
  },
  {
   "cell_type": "code",
   "execution_count": 14,
   "metadata": {},
   "outputs": [
    {
     "data": {
      "text/plain": [
       "16"
      ]
     },
     "execution_count": 14,
     "metadata": {},
     "output_type": "execute_result"
    }
   ],
   "source": [
    "# what we know about Donna\n",
    "g.add( (n.donna, FOAF.nick,  Literal(\"Doudie\", lang=\"en\")) )\n",
    "g.add( (n.donna, FOAF.nick,  Literal(\"Dudu\", lang=\"es\")) )\n",
    "g.add( (n.donna, FOAF.mbox,  URIRef(\"mailto:donna@example.org\")) )\n",
    "\n",
    "# what we know about Bob\n",
    "g.add( (n.bob,   FOAF.name,  Literal('Bob')) )\n",
    "\n",
    "# introducting Linda !\n",
    "g.add( (n.linda, RDF.type,   FOAF.Person) )\n",
    "g.add( (n.linda, FOAF.name,  Literal('Linda') ) )\n",
    "g.add( (n.bob,   FOAF.knows, n.linda) )\n",
    "\n",
    "len(g)"
   ]
  },
  {
   "cell_type": "markdown",
   "metadata": {},
   "source": [
    "## Navigating through the graph\n",
    "\n",
    "Graph are a collection of triple\n",
    "\n",
    "- Display all Subject, Predicate, Object list\n",
    "- Interrogate graph with simple methods\n"
   ]
  },
  {
   "cell_type": "code",
   "execution_count": 15,
   "metadata": {},
   "outputs": [
    {
     "name": "stdout",
     "output_type": "stream",
     "text": [
      "http://example.org/bob_donna_linda/donna http://xmlns.com/foaf/0.1/nick Dudu\n",
      "http://example.org/bob_donna_linda/donna http://xmlns.com/foaf/0.1/name Donna Fales\n",
      "http://example.org/bob_donna_linda/bob http://xmlns.com/foaf/0.1/age 42\n",
      "http://example.org/bob_donna_linda/donna http://xmlns.com/foaf/0.1/firstName Donna\n",
      "http://example.org/bob_donna_linda/donna http://www.w3.org/1999/02/22-rdf-syntax-ns#type http://xmlns.com/foaf/0.1/Person\n",
      "http://example.org/bob_donna_linda/bob http://xmlns.com/foaf/0.1/knows http://example.org/bob_donna_linda/linda\n",
      "http://example.org/bob_donna_linda/donna http://xmlns.com/foaf/0.1/mbox mailto:donna@example.org\n",
      "http://example.org/bob_donna_linda/bob http://www.w3.org/2000/01/rdf-schema#label Bob\n",
      "http://example.org/bob_donna_linda/bob http://www.w3.org/2000/01/rdf-schema#label Robert\n",
      "http://example.org/bob_donna_linda/bob http://xmlns.com/foaf/0.1/knows http://example.org/bob_donna_linda/donna\n",
      "http://example.org/bob_donna_linda/bob http://xmlns.com/foaf/0.1/name Bob\n",
      "http://example.org/bob_donna_linda/linda http://www.w3.org/1999/02/22-rdf-syntax-ns#type http://xmlns.com/foaf/0.1/Person\n",
      "http://example.org/bob_donna_linda/linda http://xmlns.com/foaf/0.1/name Linda\n",
      "http://example.org/bob_donna_linda/donna http://xmlns.com/foaf/0.1/nick Doudie\n",
      "http://example.org/bob_donna_linda/bob http://www.w3.org/1999/02/22-rdf-syntax-ns#type http://xmlns.com/foaf/0.1/Person\n",
      "http://example.org/bob_donna_linda/donna http://xmlns.com/foaf/0.1/lastName Fales\n"
     ]
    }
   ],
   "source": [
    "# Display all triples\n",
    "for s, p, o in g:\n",
    "    print(s, p, o)"
   ]
  },
  {
   "cell_type": "code",
   "execution_count": 20,
   "metadata": {},
   "outputs": [
    {
     "data": {
      "text/plain": [
       "[(rdflib.term.URIRef('http://example.org/bob_donna_linda/bob'),\n",
       "  rdflib.term.URIRef('http://www.w3.org/2000/01/rdf-schema#label'),\n",
       "  rdflib.term.Literal('Bob', lang='en')),\n",
       " (rdflib.term.URIRef('http://example.org/bob_donna_linda/bob'),\n",
       "  rdflib.term.URIRef('http://www.w3.org/2000/01/rdf-schema#label'),\n",
       "  rdflib.term.Literal('Robert', lang='fr'))]"
      ]
     },
     "execution_count": 20,
     "metadata": {},
     "output_type": "execute_result"
    }
   ],
   "source": [
    "# Find out all Bob's label\n",
    "masque = (n.bob, RDFS.label, None)\n",
    "list(g.triples(masque))"
   ]
  },
  {
   "cell_type": "code",
   "execution_count": 26,
   "metadata": {},
   "outputs": [
    {
     "name": "stdout",
     "output_type": "stream",
     "text": [
      "@prefix : <http://example.org/bob_donna_linda/> .\n",
      "@prefix foaf: <http://xmlns.com/foaf/0.1/> .\n",
      "@prefix rdf: <http://www.w3.org/1999/02/22-rdf-syntax-ns#> .\n",
      "@prefix rdfs: <http://www.w3.org/2000/01/rdf-schema#> .\n",
      "@prefix xml: <http://www.w3.org/XML/1998/namespace> .\n",
      "@prefix xsd: <http://www.w3.org/2001/XMLSchema#> .\n",
      ":bob a foaf:Person ;\n",
      "    rdfs:label \"Bob\"@en,\n",
      "        \"Robert\"@fr ;\n",
      "    foaf:age 42 ;\n",
      "    foaf:knows :donna,\n",
      "        :linda ;\n",
      "    foaf:name \"Bob\" .\n"
     ]
    }
   ],
   "source": [
    "# let's make graph's bob\n",
    "bobgraph = Graph(namespace_manager=g.namespace_manager)\n",
    "bobgraph += g.triples( (n.bob, None, None) )\n",
    "pprint(bobgraph.serialize(format='turtle'))"
   ]
  },
  {
   "cell_type": "code",
   "execution_count": 17,
   "metadata": {},
   "outputs": [
    {
     "data": {
      "text/plain": [
       "[(rdflib.term.URIRef('http://example.org/bob_donna_linda/donna'),\n",
       "  rdflib.term.URIRef('http://xmlns.com/foaf/0.1/name'),\n",
       "  rdflib.term.Literal('Donna Fales')),\n",
       " (rdflib.term.URIRef('http://example.org/bob_donna_linda/linda'),\n",
       "  rdflib.term.URIRef('http://xmlns.com/foaf/0.1/name'),\n",
       "  rdflib.term.Literal('Linda')),\n",
       " (rdflib.term.URIRef('http://example.org/bob_donna_linda/bob'),\n",
       "  rdflib.term.URIRef('http://xmlns.com/foaf/0.1/name'),\n",
       "  rdflib.term.Literal('Bob'))]"
      ]
     },
     "execution_count": 17,
     "metadata": {},
     "output_type": "execute_result"
    }
   ],
   "source": [
    "# All named triples\n",
    "list(g.triples( (None, FOAF.name, None) ))"
   ]
  },
  {
   "cell_type": "code",
   "execution_count": 23,
   "metadata": {},
   "outputs": [
    {
     "data": {
      "text/plain": [
       "[rdflib.term.URIRef('http://example.org/bob_donna_linda/linda'),\n",
       " rdflib.term.URIRef('http://example.org/bob_donna_linda/donna'),\n",
       " rdflib.term.URIRef('http://example.org/bob_donna_linda/bob')]"
      ]
     },
     "execution_count": 23,
     "metadata": {},
     "output_type": "execute_result"
    }
   ],
   "source": [
    "# all persons\n",
    "list(g.subjects(predicate=RDF.type, object=FOAF.Person))"
   ]
  },
  {
   "cell_type": "code",
   "execution_count": null,
   "metadata": {},
   "outputs": [],
   "source": [
    "# addition of graph\n",
    "g2 = Graph()\n",
    "triple = (n.swann, RDF.type, FOAF.person)\n",
    "g2.add(triple)\n",
    "g3 = g + g2\n",
    "for s, p, o in g3:\n",
    "    print(s,p,o)"
   ]
  },
  {
   "cell_type": "markdown",
   "metadata": {},
   "source": [
    "## Sparql querying\n",
    "\n",
    "- simple Select query\n",
    "- construct"
   ]
  },
  {
   "cell_type": "code",
   "execution_count": 28,
   "metadata": {},
   "outputs": [
    {
     "name": "stdout",
     "output_type": "stream",
     "text": [
      "@prefix ns1: <http://xmlns.com/foaf/0.1/> .\n",
      "@prefix rdf: <http://www.w3.org/1999/02/22-rdf-syntax-ns#> .\n",
      "@prefix rdfs: <http://www.w3.org/2000/01/rdf-schema#> .\n",
      "@prefix xml: <http://www.w3.org/XML/1998/namespace> .\n",
      "@prefix xsd: <http://www.w3.org/2001/XMLSchema#> .\n",
      "<http://example.org/bob_donna_linda/bob> ns1:name \"Bob\" .\n",
      "<http://example.org/bob_donna_linda/donna> ns1:name \"Donna Fales\" .\n",
      "<http://example.org/bob_donna_linda/linda> ns1:name \"Linda\" .\n"
     ]
    }
   ],
   "source": [
    "query = \"\"\"\n",
    "PREFIX foaf: <http://xmlns.com/foaf/0.1/>\n",
    "CONSTRUCT { ?s foaf:name ?o . }\n",
    "WHERE {\n",
    "  ?s foaf:name ?o .\n",
    "}\n",
    "\"\"\"\n",
    "sparql_result = g.query(query)\n",
    "pprint(sparql_result.serialize(format='turtle'))"
   ]
  },
  {
   "cell_type": "code",
   "execution_count": 33,
   "metadata": {},
   "outputs": [
    {
     "name": "stdout",
     "output_type": "stream",
     "text": [
      "(rdflib.term.Literal('Bob'),)\n"
     ]
    }
   ],
   "source": [
    "# utilisation de contexte\n",
    "# utilisation de binding (ie valeur fixée dans la query)\n",
    "ns = dict(foaf=FOAF)\n",
    "query_result = g.query('SELECT ?name WHERE { ?p foaf:name ?name }',\n",
    "                   initNs=ns,\n",
    "                   initBindings={'p' : n.bob})\n",
    "for row in query_result:\n",
    "    print(row)"
   ]
  },
  {
   "cell_type": "code",
   "execution_count": 35,
   "metadata": {},
   "outputs": [
    {
     "name": "stdout",
     "output_type": "stream",
     "text": [
      "@prefix ns1: <http://www.snee.com/ns/demo#> .\n",
      "@prefix rdf: <http://www.w3.org/1999/02/22-rdf-syntax-ns#> .\n",
      "@prefix rdfs: <http://www.w3.org/2000/01/rdf-schema#> .\n",
      "@prefix xml: <http://www.w3.org/XML/1998/namespace> .\n",
      "@prefix xsd: <http://www.w3.org/2001/XMLSchema#> .\n",
      "ns1:Jane ns1:hasGrandfather ns1:Pat .\n",
      "ns1:Mike ns1:hasGrandfather ns1:Pat .\n"
     ]
    }
   ],
   "source": [
    "# get a new graph from a query\n",
    "n3data = \"\"\"\\\n",
    "@prefix : <http://www.snee.com/ns/demo#> .\n",
    "\n",
    ":Jane :hasParent :Gene .\n",
    ":Gene :hasParent :Pat ;\n",
    "      :gender    :female .\n",
    ":Joan :hasParent :Pat ;\n",
    "      :gender    :female .\n",
    ":Pat  :gender    :male .\n",
    ":Mike :hasParent :Joan .\"\"\"\n",
    "gc1 = Graph().parse(data=n3data, format=\"n3\")\n",
    "\n",
    "cq = \"\"\"\\\n",
    "CONSTRUCT { ?p :hasGrandfather ?g . }\n",
    "\n",
    "WHERE {?p      :hasParent ?parent .\n",
    "       ?parent :hasParent ?g .\n",
    "       ?g      :gender    :male .\n",
    "}\"\"\"\n",
    "\n",
    "nsdict = {'':\"http://www.snee.com/ns/demo#\"}\n",
    "result_graph = gc1.query(cq, initNs=nsdict)\n",
    "\n",
    "newg = Graph().parse(data=result_graph.serialize(format='xml'))\n",
    "pprint(newg.serialize(format=\"n3\"))"
   ]
  },
  {
   "cell_type": "markdown",
   "metadata": {},
   "source": [
    "## Conjunctive Graph"
   ]
  },
  {
   "cell_type": "code",
   "execution_count": null,
   "metadata": {},
   "outputs": [],
   "source": [
    "from rdflib import ConjunctiveGraph\n",
    "\n",
    "gc = ConjunctiveGraph()\n",
    "# graph nommé numéro 1\n",
    "c1 = URIRef(\"http://example.org/mygraph1\")\n",
    "# graph nommé numéro 2\n",
    "c2 = URIRef(\"http://example.org/mygraph2\")\n",
    "print(\"le conjunctive graph est vide : \", len(gc))\n",
    "\n",
    "\n",
    "bob = URIRef(u'urn:bob')\n",
    "likes = URIRef(u'urn:likes')\n",
    "pizza = URIRef(u'urn:pizza')\n",
    "gc1 = gc.get_context(c1)\n",
    "gc1.add((bob, likes, pizza))\n",
    "print(\"Nb éléments dans gc1: \", len(gc1))\n",
    "print(\"Nb éléments dans g: \", len(gc))\n",
    "\n",
    "tom = URIRef(u'urn:tom')\n",
    "gc2 = gc.get_context(c2)\n",
    "gc2.add((tom, likes, pizza))\n",
    "gc2.add((bob, likes, pizza))\n",
    "print(\"Nb éléments dans gc2: \", len(gc2))\n",
    "print(\"Nb éléments dans g: \", len(gc))\n",
    "\n",
    "list(gc.contexts())\n"
   ]
  },
  {
   "cell_type": "code",
   "execution_count": null,
   "metadata": {},
   "outputs": [],
   "source": [
    "print(g.identifier)\n",
    "g3 = gc.get_context(g.identifier)\n",
    "print(g3.identifier)\n",
    "for s, p, o in g3:\n",
    "    print(s, p, o)"
   ]
  },
  {
   "cell_type": "code",
   "execution_count": null,
   "metadata": {},
   "outputs": [],
   "source": [
    "# insert quads\n",
    "# g3.addN( (bob, likes, pizza, g3.identifier) )\n",
    "\n",
    "for i in (bob, likes, pizza, g3.identifier):\n",
    "    print(i)\n",
    "\n",
    "for s, p, o, c in (bob, likes, pizza, g3.identifier):\n",
    "    print(s, p, o, c)"
   ]
  },
  {
   "cell_type": "code",
   "execution_count": null,
   "metadata": {},
   "outputs": [],
   "source": []
  }
 ],
 "metadata": {
  "kernelspec": {
   "display_name": "Python 3",
   "language": "python",
   "name": "python3"
  },
  "language_info": {
   "codemirror_mode": {
    "name": "ipython",
    "version": 3
   },
   "file_extension": ".py",
   "mimetype": "text/x-python",
   "name": "python",
   "nbconvert_exporter": "python",
   "pygments_lexer": "ipython3",
   "version": "3.6.5"
  }
 },
 "nbformat": 4,
 "nbformat_minor": 2
}
