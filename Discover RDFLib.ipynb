{
 "cells": [
  {
   "cell_type": "markdown",
   "metadata": {},
   "source": [
    "# A la découverte des Linked Open Data"
   ]
  },
  {
   "cell_type": "code",
   "execution_count": 1,
   "metadata": {},
   "outputs": [],
   "source": [
    "from rdflib import Graph, Namespace\n",
    "\n",
    "def pprint(msg):\n",
    "    msg = msg.decode('utf-8')\n",
    "    for l in msg.split('\\n'):\n",
    "        if l.strip():\n",
    "            print(l)"
   ]
  },
  {
   "cell_type": "code",
   "execution_count": 2,
   "metadata": {},
   "outputs": [
    {
     "data": {
      "text/plain": [
       "rdflib.term.URIRef('http://example.org/people/donna')"
      ]
     },
     "execution_count": 2,
     "metadata": {},
     "output_type": "execute_result"
    }
   ],
   "source": [
    "n = Namespace(\"http://example.org/people/\")\n",
    "n.donna"
   ]
  },
  {
   "cell_type": "code",
   "execution_count": 3,
   "metadata": {},
   "outputs": [
    {
     "data": {
      "text/plain": [
       "rdflib.term.Literal('1', datatype=rdflib.term.URIRef('http://www.w3.org/2001/XMLSchema#integer'))"
      ]
     },
     "execution_count": 3,
     "metadata": {},
     "output_type": "execute_result"
    }
   ],
   "source": [
    "from rdflib import XSD, Literal\n",
    "Literal('01', datatype=XSD.integer)"
   ]
  },
  {
   "cell_type": "code",
   "execution_count": 4,
   "metadata": {},
   "outputs": [
    {
     "data": {
      "text/plain": [
       "rdflib.term.URIRef('http://example.org/named_graph')"
      ]
     },
     "execution_count": 4,
     "metadata": {},
     "output_type": "execute_result"
    }
   ],
   "source": [
    "from rdflib import URIRef\n",
    "g = Graph(identifier=URIRef('http://example.org/named_graph'))\n",
    "g.identifier"
   ]
  },
  {
   "cell_type": "code",
   "execution_count": 5,
   "metadata": {},
   "outputs": [
    {
     "data": {
      "text/plain": [
       "13"
      ]
     },
     "execution_count": 5,
     "metadata": {},
     "output_type": "execute_result"
    }
   ],
   "source": [
    "from rdflib import BNode\n",
    "from rdflib.namespace import DC, FOAF, RDF, RDFS\n",
    "\n",
    "# Bind a few prefix, namespace pairs for more readable output\n",
    "g.bind(\"dc\", DC)\n",
    "g.bind(\"foaf\", FOAF)\n",
    "g.bind(\"n\", n)\n",
    "\n",
    "donna = BNode()\n",
    "g.add( (donna, RDF.type, FOAF.Person) )\n",
    "g.add( (donna, FOAF.nick, Literal(\"donna\", lang=\"foo\")) )\n",
    "g.add( (donna, FOAF.name, Literal(\"Donna Fales\")) )\n",
    "g.add( (donna, FOAF.mbox, URIRef(\"mailto:donna@example.org\")) )\n",
    "\n",
    "bob = n.bob\n",
    "\n",
    "g.add( (bob, RDF.type, FOAF.Person) )\n",
    "g.add( (bob, FOAF.name, Literal('Bob')) )\n",
    "g.set( (bob, FOAF.age, Literal('42', datatype=XSD.integer)) )\n",
    "g.add( (bob, FOAF.knows, n.linda) )\n",
    "g.add( (bob, FOAF.knows, donna) )\n",
    "g.add( (n.linda, RDF.type, FOAF.Person) )\n",
    "g.add( (n.linda, FOAF.name, Literal('Linda') ) )\n",
    "g.add( (donna, RDF.type, FOAF.Person) )\n",
    "g.add( (donna, FOAF.nick, Literal(\"donna\", lang=\"foo\")) )\n",
    "g.add( (donna, FOAF.name, Literal(\"Donna Fales\")) )\n",
    "\n",
    "g.add( (bob, RDFS.label, Literal('Bob', lang='en') ) )\n",
    "g.add( (bob, RDFS.label, Literal('Robert', lang='fr') ) )\n",
    "\n",
    "len(g)"
   ]
  },
  {
   "cell_type": "code",
   "execution_count": 6,
   "metadata": {},
   "outputs": [
    {
     "name": "stdout",
     "output_type": "stream",
     "text": [
      "@prefix dc: <http://purl.org/dc/elements/1.1/> .\n",
      "@prefix foaf: <http://xmlns.com/foaf/0.1/> .\n",
      "@prefix n: <http://example.org/people/> .\n",
      "@prefix rdf: <http://www.w3.org/1999/02/22-rdf-syntax-ns#> .\n",
      "@prefix rdfs: <http://www.w3.org/2000/01/rdf-schema#> .\n",
      "@prefix xml: <http://www.w3.org/XML/1998/namespace> .\n",
      "@prefix xsd: <http://www.w3.org/2001/XMLSchema#> .\n",
      "n:bob a foaf:Person ;\n",
      "    rdfs:label \"Bob\"@en,\n",
      "        \"Robert\"@fr ;\n",
      "    foaf:age 42 ;\n",
      "    foaf:knows [ a foaf:Person ;\n",
      "            foaf:mbox <mailto:donna@example.org> ;\n",
      "            foaf:name \"Donna Fales\" ;\n",
      "            foaf:nick \"donna\"@foo ],\n",
      "        n:linda ;\n",
      "    foaf:name \"Bob\" .\n",
      "n:linda a foaf:Person ;\n",
      "    foaf:name \"Linda\" .\n"
     ]
    }
   ],
   "source": [
    "pprint(g.serialize(format='turtle'))"
   ]
  },
  {
   "cell_type": "code",
   "execution_count": 7,
   "metadata": {},
   "outputs": [
    {
     "name": "stdout",
     "output_type": "stream",
     "text": [
      "{\n",
      "  \"@context\": {\n",
      "    \"dc\": \"http://purl.org/dc/elements/1.1/\",\n",
      "    \"foaf\": \"http://xmlns.com/foaf/0.1/\",\n",
      "    \"n\": \"http://example.org/people/\",\n",
      "    \"rdf\": \"http://www.w3.org/1999/02/22-rdf-syntax-ns#\",\n",
      "    \"rdfs\": \"http://www.w3.org/2000/01/rdf-schema#\",\n",
      "    \"xml\": \"http://www.w3.org/XML/1998/namespace\",\n",
      "    \"xsd\": \"http://www.w3.org/2001/XMLSchema#\"\n",
      "  },\n",
      "  \"@graph\": [\n",
      "    {\n",
      "      \"@id\": \"http://example.org/people/bob\",\n",
      "      \"@type\": \"http://xmlns.com/foaf/0.1/Person\",\n",
      "      \"http://www.w3.org/2000/01/rdf-schema#label\": [\n",
      "        {\n",
      "          \"@language\": \"en\",\n",
      "          \"@value\": \"Bob\"\n",
      "        },\n",
      "        {\n",
      "          \"@language\": \"fr\",\n",
      "          \"@value\": \"Robert\"\n",
      "        }\n",
      "      ],\n",
      "      \"http://xmlns.com/foaf/0.1/age\": 42,\n",
      "      \"http://xmlns.com/foaf/0.1/knows\": [\n",
      "        {\n",
      "          \"@id\": \"_:N2a6f81be0741413d8d12234b454d57c8\"\n",
      "        },\n",
      "        {\n",
      "          \"@id\": \"http://example.org/people/linda\"\n",
      "        }\n",
      "      ],\n",
      "      \"http://xmlns.com/foaf/0.1/name\": \"Bob\"\n",
      "    },\n",
      "    {\n",
      "      \"@id\": \"_:N2a6f81be0741413d8d12234b454d57c8\",\n",
      "      \"@type\": \"http://xmlns.com/foaf/0.1/Person\",\n",
      "      \"http://xmlns.com/foaf/0.1/mbox\": {\n",
      "        \"@id\": \"mailto:donna@example.org\"\n",
      "      },\n",
      "      \"http://xmlns.com/foaf/0.1/name\": \"Donna Fales\",\n",
      "      \"http://xmlns.com/foaf/0.1/nick\": {\n",
      "        \"@language\": \"foo\",\n",
      "        \"@value\": \"donna\"\n",
      "      }\n",
      "    },\n",
      "    {\n",
      "      \"@id\": \"http://example.org/people/linda\",\n",
      "      \"@type\": \"http://xmlns.com/foaf/0.1/Person\",\n",
      "      \"http://xmlns.com/foaf/0.1/name\": \"Linda\"\n",
      "    }\n",
      "  ],\n",
      "  \"@id\": \"http://example.org/named_graph\"\n",
      "}\n"
     ]
    }
   ],
   "source": [
    "# Serialize en JSON-LD\n",
    "from rdflib import plugin\n",
    "from rdflib.serializer import Serializer\n",
    "\n",
    "context = dict(g.namespaces())\n",
    "pprint(g.serialize(format='json-ld', context=context))"
   ]
  },
  {
   "cell_type": "code",
   "execution_count": 8,
   "metadata": {},
   "outputs": [
    {
     "name": "stdout",
     "output_type": "stream",
     "text": [
      "http://example.org/people/bob http://www.w3.org/2000/01/rdf-schema#label Robert\n",
      "N2a6f81be0741413d8d12234b454d57c8 http://xmlns.com/foaf/0.1/nick donna\n",
      "http://example.org/people/bob http://xmlns.com/foaf/0.1/age 42\n",
      "http://example.org/people/bob http://xmlns.com/foaf/0.1/knows N2a6f81be0741413d8d12234b454d57c8\n",
      "http://example.org/people/bob http://www.w3.org/1999/02/22-rdf-syntax-ns#type http://xmlns.com/foaf/0.1/Person\n",
      "http://example.org/people/linda http://xmlns.com/foaf/0.1/name Linda\n",
      "http://example.org/people/linda http://www.w3.org/1999/02/22-rdf-syntax-ns#type http://xmlns.com/foaf/0.1/Person\n",
      "http://example.org/people/bob http://www.w3.org/2000/01/rdf-schema#label Bob\n",
      "N2a6f81be0741413d8d12234b454d57c8 http://xmlns.com/foaf/0.1/name Donna Fales\n",
      "N2a6f81be0741413d8d12234b454d57c8 http://xmlns.com/foaf/0.1/mbox mailto:donna@example.org\n",
      "N2a6f81be0741413d8d12234b454d57c8 http://www.w3.org/1999/02/22-rdf-syntax-ns#type http://xmlns.com/foaf/0.1/Person\n",
      "http://example.org/people/bob http://xmlns.com/foaf/0.1/name Bob\n",
      "http://example.org/people/bob http://xmlns.com/foaf/0.1/knows http://example.org/people/linda\n"
     ]
    }
   ],
   "source": [
    "for s, p, o in g:\n",
    "    print(s, p, o)"
   ]
  },
  {
   "cell_type": "code",
   "execution_count": 9,
   "metadata": {},
   "outputs": [
    {
     "data": {
      "text/plain": [
       "[(rdflib.term.URIRef('http://example.org/people/bob'),\n",
       "  rdflib.term.URIRef('http://xmlns.com/foaf/0.1/name'),\n",
       "  rdflib.term.Literal('Bob'))]"
      ]
     },
     "execution_count": 9,
     "metadata": {},
     "output_type": "execute_result"
    }
   ],
   "source": [
    "# recherche des prénoms de n.bob\n",
    "masque = (n.bob, FOAF.name, None)\n",
    "list(g.triples(masque))"
   ]
  },
  {
   "cell_type": "code",
   "execution_count": 10,
   "metadata": {},
   "outputs": [
    {
     "data": {
      "text/plain": [
       "[(rdflib.term.BNode('N2a6f81be0741413d8d12234b454d57c8'),\n",
       "  rdflib.term.URIRef('http://xmlns.com/foaf/0.1/name'),\n",
       "  rdflib.term.Literal('Donna Fales')),\n",
       " (rdflib.term.URIRef('http://example.org/people/bob'),\n",
       "  rdflib.term.URIRef('http://xmlns.com/foaf/0.1/name'),\n",
       "  rdflib.term.Literal('Bob')),\n",
       " (rdflib.term.URIRef('http://example.org/people/linda'),\n",
       "  rdflib.term.URIRef('http://xmlns.com/foaf/0.1/name'),\n",
       "  rdflib.term.Literal('Linda'))]"
      ]
     },
     "execution_count": 10,
     "metadata": {},
     "output_type": "execute_result"
    }
   ],
   "source": [
    "# tous les triplets avec name comme prédicat\n",
    "list(g.triples( (None, FOAF.name, None) ))"
   ]
  },
  {
   "cell_type": "code",
   "execution_count": 11,
   "metadata": {},
   "outputs": [
    {
     "data": {
      "text/plain": [
       "[(rdflib.term.BNode('N2a6f81be0741413d8d12234b454d57c8'),\n",
       "  rdflib.term.URIRef('http://www.w3.org/1999/02/22-rdf-syntax-ns#type'),\n",
       "  rdflib.term.URIRef('http://xmlns.com/foaf/0.1/Person')),\n",
       " (rdflib.term.URIRef('http://example.org/people/linda'),\n",
       "  rdflib.term.URIRef('http://www.w3.org/1999/02/22-rdf-syntax-ns#type'),\n",
       "  rdflib.term.URIRef('http://xmlns.com/foaf/0.1/Person')),\n",
       " (rdflib.term.URIRef('http://example.org/people/bob'),\n",
       "  rdflib.term.URIRef('http://www.w3.org/1999/02/22-rdf-syntax-ns#type'),\n",
       "  rdflib.term.URIRef('http://xmlns.com/foaf/0.1/Person'))]"
      ]
     },
     "execution_count": 11,
     "metadata": {},
     "output_type": "execute_result"
    }
   ],
   "source": [
    "# tous les triplets définissant une personne\n",
    "list(g.triples( (None, RDF.type, FOAF.Person) ))"
   ]
  },
  {
   "cell_type": "code",
   "execution_count": 12,
   "metadata": {},
   "outputs": [
    {
     "data": {
      "text/plain": [
       "[rdflib.term.BNode('N2a6f81be0741413d8d12234b454d57c8'),\n",
       " rdflib.term.URIRef('http://example.org/people/linda'),\n",
       " rdflib.term.URIRef('http://example.org/people/bob')]"
      ]
     },
     "execution_count": 12,
     "metadata": {},
     "output_type": "execute_result"
    }
   ],
   "source": [
    "# liste de tous les sujets de type Person\n",
    "list(g.subjects(predicate=RDF.type, object=FOAF.Person))"
   ]
  },
  {
   "cell_type": "code",
   "execution_count": 13,
   "metadata": {},
   "outputs": [
    {
     "name": "stdout",
     "output_type": "stream",
     "text": [
      "N2a6f81be0741413d8d12234b454d57c8 http://www.w3.org/1999/02/22-rdf-syntax-ns#type http://xmlns.com/foaf/0.1/Person\n",
      "N2a6f81be0741413d8d12234b454d57c8 http://xmlns.com/foaf/0.1/name Donna Fales\n",
      "http://example.org/people/linda http://xmlns.com/foaf/0.1/name Linda\n",
      "http://example.org/people/bob http://xmlns.com/foaf/0.1/name Bob\n",
      "http://example.org/people/swann http://www.w3.org/1999/02/22-rdf-syntax-ns#type http://xmlns.com/foaf/0.1/person\n",
      "http://example.org/people/bob http://www.w3.org/2000/01/rdf-schema#label Robert\n",
      "N2a6f81be0741413d8d12234b454d57c8 http://xmlns.com/foaf/0.1/nick donna\n",
      "N2a6f81be0741413d8d12234b454d57c8 http://xmlns.com/foaf/0.1/mbox mailto:donna@example.org\n",
      "http://example.org/people/linda http://www.w3.org/1999/02/22-rdf-syntax-ns#type http://xmlns.com/foaf/0.1/Person\n",
      "http://example.org/people/bob http://www.w3.org/1999/02/22-rdf-syntax-ns#type http://xmlns.com/foaf/0.1/Person\n",
      "http://example.org/people/bob http://xmlns.com/foaf/0.1/age 42\n",
      "http://example.org/people/bob http://xmlns.com/foaf/0.1/knows N2a6f81be0741413d8d12234b454d57c8\n",
      "http://example.org/people/bob http://xmlns.com/foaf/0.1/knows http://example.org/people/linda\n",
      "http://example.org/people/bob http://www.w3.org/2000/01/rdf-schema#label Bob\n"
     ]
    }
   ],
   "source": [
    "# addition of graph\n",
    "g2 = Graph()\n",
    "triple = (n.swann, RDF.type, FOAF.person)\n",
    "g2.add(triple)\n",
    "g3 = g + g2\n",
    "for s, p, o in g3:\n",
    "    print(s,p,o)"
   ]
  },
  {
   "cell_type": "code",
   "execution_count": 14,
   "metadata": {},
   "outputs": [
    {
     "data": {
      "text/plain": [
       "14"
      ]
     },
     "execution_count": 14,
     "metadata": {},
     "output_type": "execute_result"
    }
   ],
   "source": [
    "len(g3)"
   ]
  },
  {
   "cell_type": "code",
   "execution_count": 15,
   "metadata": {},
   "outputs": [
    {
     "name": "stdout",
     "output_type": "stream",
     "text": [
      "[\n",
      "  {\n",
      "    \"@id\": \"http://example.org/people/bob\",\n",
      "    \"http://xmlns.com/foaf/0.1/name\": [\n",
      "      {\n",
      "        \"@value\": \"Bob\"\n",
      "      }\n",
      "    ]\n",
      "  },\n",
      "  {\n",
      "    \"@id\": \"http://example.org/people/linda\",\n",
      "    \"http://xmlns.com/foaf/0.1/name\": [\n",
      "      {\n",
      "        \"@value\": \"Linda\"\n",
      "      }\n",
      "    ]\n",
      "  },\n",
      "  {\n",
      "    \"@id\": \"_:N2a6f81be0741413d8d12234b454d57c8\",\n",
      "    \"http://xmlns.com/foaf/0.1/name\": [\n",
      "      {\n",
      "        \"@value\": \"Donna Fales\"\n",
      "      }\n",
      "    ]\n",
      "  }\n",
      "]\n"
     ]
    }
   ],
   "source": [
    "query = \"\"\"\n",
    "PREFIX foaf: <http://xmlns.com/foaf/0.1/>\n",
    "CONSTRUCT { ?s foaf:name ?o . }\n",
    "WHERE {\n",
    "  ?s foaf:name ?o .\n",
    "}\n",
    "\"\"\"\n",
    "sparql_result = g.query(query)\n",
    "pprint(sparql_result.serialize(format='json-ld'))"
   ]
  },
  {
   "cell_type": "markdown",
   "metadata": {},
   "source": [
    "## SPARQL"
   ]
  },
  {
   "cell_type": "code",
   "execution_count": 16,
   "metadata": {},
   "outputs": [
    {
     "name": "stdout",
     "output_type": "stream",
     "text": [
      "(rdflib.term.Literal('Bob'),)\n"
     ]
    }
   ],
   "source": [
    "# utilisation de contexte\n",
    "# utilisation de binding (ie valeur fixée dans la query)\n",
    "ns = dict(foaf=FOAF)\n",
    "bob = URIRef('http://example.org/people/bob')\n",
    "query_result = g.query('SELECT ?name WHERE { ?p foaf:name ?name }',\n",
    "                   initNs=ns,\n",
    "                   initBindings={'p' : bob})\n",
    "for row in query_result:\n",
    "    print(row)"
   ]
  },
  {
   "cell_type": "code",
   "execution_count": 17,
   "metadata": {},
   "outputs": [
    {
     "data": {
      "text/plain": [
       "b'@prefix ns1: <http://www.snee.com/ns/demo#> .\\n@prefix rdf: <http://www.w3.org/1999/02/22-rdf-syntax-ns#> .\\n@prefix rdfs: <http://www.w3.org/2000/01/rdf-schema#> .\\n@prefix xml: <http://www.w3.org/XML/1998/namespace> .\\n@prefix xsd: <http://www.w3.org/2001/XMLSchema#> .\\n\\nns1:Jane ns1:hasGrandfather ns1:Pat .\\n\\nns1:Mike ns1:hasGrandfather ns1:Pat .\\n\\n'"
      ]
     },
     "metadata": {},
     "output_type": "display_data"
    }
   ],
   "source": [
    "# get a new graph from a query\n",
    "from IPython.display import display\n",
    "\n",
    "\n",
    "n3data = \"\"\"\\\n",
    "@prefix : <http://www.snee.com/ns/demo#> .\n",
    "\n",
    ":Jane :hasParent :Gene .\n",
    ":Gene :hasParent :Pat ;\n",
    "      :gender    :female .\n",
    ":Joan :hasParent :Pat ;\n",
    "      :gender    :female .\n",
    ":Pat  :gender    :male .\n",
    ":Mike :hasParent :Joan .\"\"\"\n",
    "gc1 = Graph().parse(data=n3data, format=\"n3\")\n",
    "\n",
    "cq = \"\"\"\\\n",
    "CONSTRUCT { ?p :hasGrandfather ?g . }\n",
    "\n",
    "WHERE {?p      :hasParent ?parent .\n",
    "       ?parent :hasParent ?g .\n",
    "       ?g      :gender    :male .\n",
    "}\"\"\"\n",
    "\n",
    "nsdict = {'':\"http://www.snee.com/ns/demo#\"}\n",
    "result_graph = gc1.query(cq, initNs=nsdict)\n",
    "\n",
    "newg = Graph().parse(data=result_graph.serialize(format='xml'))\n",
    "display(newg.serialize(format=\"n3\"))"
   ]
  },
  {
   "cell_type": "markdown",
   "metadata": {},
   "source": [
    "## Conjunctive Graph"
   ]
  },
  {
   "cell_type": "code",
   "execution_count": 18,
   "metadata": {},
   "outputs": [
    {
     "name": "stdout",
     "output_type": "stream",
     "text": [
      "le conjunctive graph est vide :  0\n",
      "Nb éléments dans gc1:  1\n",
      "Nb éléments dans g:  1\n",
      "Nb éléments dans gc2:  2\n",
      "Nb éléments dans g:  2\n"
     ]
    },
    {
     "data": {
      "text/plain": [
       "[<Graph identifier=http://example.org/mygraph1 (<class 'rdflib.graph.Graph'>)>,\n",
       " <Graph identifier=http://example.org/mygraph2 (<class 'rdflib.graph.Graph'>)>]"
      ]
     },
     "execution_count": 18,
     "metadata": {},
     "output_type": "execute_result"
    }
   ],
   "source": [
    "from rdflib import ConjunctiveGraph\n",
    "\n",
    "gc = ConjunctiveGraph()\n",
    "# graph nommé numéro 1\n",
    "c1 = URIRef(\"http://example.org/mygraph1\")\n",
    "# graph nommé numéro 2\n",
    "c2 = URIRef(\"http://example.org/mygraph2\")\n",
    "print(\"le conjunctive graph est vide : \", len(gc))\n",
    "\n",
    "\n",
    "bob = URIRef(u'urn:bob')\n",
    "likes = URIRef(u'urn:likes')\n",
    "pizza = URIRef(u'urn:pizza')\n",
    "gc1 = gc.get_context(c1)\n",
    "gc1.add((bob, likes, pizza))\n",
    "print(\"Nb éléments dans gc1: \", len(gc1))\n",
    "print(\"Nb éléments dans g: \", len(gc))\n",
    "\n",
    "tom = URIRef(u'urn:tom')\n",
    "gc2 = gc.get_context(c2)\n",
    "gc2.add((tom, likes, pizza))\n",
    "gc2.add((bob, likes, pizza))\n",
    "print(\"Nb éléments dans gc2: \", len(gc2))\n",
    "print(\"Nb éléments dans g: \", len(gc))\n",
    "\n",
    "list(gc.contexts())\n"
   ]
  },
  {
   "cell_type": "code",
   "execution_count": 19,
   "metadata": {},
   "outputs": [
    {
     "name": "stdout",
     "output_type": "stream",
     "text": [
      "http://example.org/named_graph\n",
      "http://example.org/named_graph\n"
     ]
    }
   ],
   "source": [
    "print(g.identifier)\n",
    "g3 = gc.get_context(g.identifier)\n",
    "print(g3.identifier)\n",
    "for s, p, o in g3:\n",
    "    print(s, p, o)"
   ]
  },
  {
   "cell_type": "code",
   "execution_count": 20,
   "metadata": {},
   "outputs": [
    {
     "name": "stdout",
     "output_type": "stream",
     "text": [
      "urn:bob\n",
      "urn:likes\n",
      "urn:pizza\n",
      "http://example.org/named_graph\n"
     ]
    },
    {
     "ename": "ValueError",
     "evalue": "too many values to unpack (expected 4)",
     "output_type": "error",
     "traceback": [
      "\u001b[0;31m---------------------------------------------------------------------------\u001b[0m",
      "\u001b[0;31mValueError\u001b[0m                                Traceback (most recent call last)",
      "\u001b[0;32m<ipython-input-20-492935c83f7f>\u001b[0m in \u001b[0;36m<module>\u001b[0;34m()\u001b[0m\n\u001b[1;32m      5\u001b[0m     \u001b[0mprint\u001b[0m\u001b[0;34m(\u001b[0m\u001b[0mi\u001b[0m\u001b[0;34m)\u001b[0m\u001b[0;34m\u001b[0m\u001b[0m\n\u001b[1;32m      6\u001b[0m \u001b[0;34m\u001b[0m\u001b[0m\n\u001b[0;32m----> 7\u001b[0;31m \u001b[0;32mfor\u001b[0m \u001b[0ms\u001b[0m\u001b[0;34m,\u001b[0m \u001b[0mp\u001b[0m\u001b[0;34m,\u001b[0m \u001b[0mo\u001b[0m\u001b[0;34m,\u001b[0m \u001b[0mc\u001b[0m \u001b[0;32min\u001b[0m \u001b[0;34m(\u001b[0m\u001b[0mbob\u001b[0m\u001b[0;34m,\u001b[0m \u001b[0mlikes\u001b[0m\u001b[0;34m,\u001b[0m \u001b[0mpizza\u001b[0m\u001b[0;34m,\u001b[0m \u001b[0mg3\u001b[0m\u001b[0;34m.\u001b[0m\u001b[0midentifier\u001b[0m\u001b[0;34m)\u001b[0m\u001b[0;34m:\u001b[0m\u001b[0;34m\u001b[0m\u001b[0m\n\u001b[0m\u001b[1;32m      8\u001b[0m     \u001b[0mprint\u001b[0m\u001b[0;34m(\u001b[0m\u001b[0ms\u001b[0m\u001b[0;34m,\u001b[0m \u001b[0mp\u001b[0m\u001b[0;34m,\u001b[0m \u001b[0mo\u001b[0m\u001b[0;34m,\u001b[0m \u001b[0mc\u001b[0m\u001b[0;34m)\u001b[0m\u001b[0;34m\u001b[0m\u001b[0m\n",
      "\u001b[0;31mValueError\u001b[0m: too many values to unpack (expected 4)"
     ]
    }
   ],
   "source": [
    "# insert quads\n",
    "# g3.addN( (bob, likes, pizza, g3.identifier) )\n",
    "\n",
    "for i in (bob, likes, pizza, g3.identifier):\n",
    "    print(i)\n",
    "\n",
    "for s, p, o, c in (bob, likes, pizza, g3.identifier):\n",
    "    print(s, p, o, c)"
   ]
  },
  {
   "cell_type": "code",
   "execution_count": null,
   "metadata": {},
   "outputs": [],
   "source": []
  }
 ],
 "metadata": {
  "kernelspec": {
   "display_name": "Python 3",
   "language": "python",
   "name": "python3"
  },
  "language_info": {
   "codemirror_mode": {
    "name": "ipython",
    "version": 3
   },
   "file_extension": ".py",
   "mimetype": "text/x-python",
   "name": "python",
   "nbconvert_exporter": "python",
   "pygments_lexer": "ipython3",
   "version": "3.6.5"
  }
 },
 "nbformat": 4,
 "nbformat_minor": 2
}
